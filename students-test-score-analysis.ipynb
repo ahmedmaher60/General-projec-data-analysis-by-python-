{
 "cells": [
  {
   "cell_type": "code",
   "execution_count": 1,
   "id": "ca7bb3bb",
   "metadata": {
    "_cell_guid": "b1076dfc-b9ad-4769-8c92-a6c4dae69d19",
    "_uuid": "8f2839f25d086af736a60e9eeb907d3b93b6e0e5",
    "execution": {
     "iopub.execute_input": "2023-01-15T11:55:19.165491Z",
     "iopub.status.busy": "2023-01-15T11:55:19.164505Z",
     "iopub.status.idle": "2023-01-15T11:55:19.188661Z",
     "shell.execute_reply": "2023-01-15T11:55:19.187194Z"
    },
    "papermill": {
     "duration": 0.036958,
     "end_time": "2023-01-15T11:55:19.191571",
     "exception": false,
     "start_time": "2023-01-15T11:55:19.154613",
     "status": "completed"
    },
    "tags": []
   },
   "outputs": [
    {
     "name": "stdout",
     "output_type": "stream",
     "text": [
      "/kaggle/input/predict-test-scores-of-students/test_scores.csv\n"
     ]
    }
   ],
   "source": [
    "# This Python 3 environment comes with many helpful analytics libraries installed\n",
    "# It is defined by the kaggle/python Docker image: https://github.com/kaggle/docker-python\n",
    "# For example, here's several helpful packages to load\n",
    "\n",
    "import numpy as np # linear algebra\n",
    "import pandas as pd # data processing, CSV file I/O (e.g. pd.read_csv)\n",
    "\n",
    "# Input data files are available in the read-only \"../input/\" directory\n",
    "# For example, running this (by clicking run or pressing Shift+Enter) will list all files under the input directory\n",
    "\n",
    "import os\n",
    "for dirname, _, filenames in os.walk('/kaggle/input'):\n",
    "    for filename in filenames:\n",
    "        print(os.path.join(dirname, filename))\n",
    "\n",
    "# You can write up to 20GB to the current directory (/kaggle/working/) that gets preserved as output when you create a version using \"Save & Run All\" \n",
    "# You can also write temporary files to /kaggle/temp/, but they won't be saved outside of the current session"
   ]
  },
  {
   "cell_type": "code",
   "execution_count": 2,
   "id": "08fc96a7",
   "metadata": {
    "execution": {
     "iopub.execute_input": "2023-01-15T11:55:19.210274Z",
     "iopub.status.busy": "2023-01-15T11:55:19.208567Z",
     "iopub.status.idle": "2023-01-15T11:55:19.244814Z",
     "shell.execute_reply": "2023-01-15T11:55:19.243912Z"
    },
    "papermill": {
     "duration": 0.048376,
     "end_time": "2023-01-15T11:55:19.247344",
     "exception": false,
     "start_time": "2023-01-15T11:55:19.198968",
     "status": "completed"
    },
    "tags": []
   },
   "outputs": [],
   "source": [
    "df = pd.read_csv('/kaggle/input/predict-test-scores-of-students/test_scores.csv')"
   ]
  },
  {
   "cell_type": "markdown",
   "id": "2c95518e",
   "metadata": {
    "papermill": {
     "duration": 0.008507,
     "end_time": "2023-01-15T11:55:19.265650",
     "exception": false,
     "start_time": "2023-01-15T11:55:19.257143",
     "status": "completed"
    },
    "tags": []
   },
   "source": [
    "# EDA"
   ]
  },
  {
   "cell_type": "code",
   "execution_count": 3,
   "id": "d2af25d2",
   "metadata": {
    "execution": {
     "iopub.execute_input": "2023-01-15T11:55:19.282098Z",
     "iopub.status.busy": "2023-01-15T11:55:19.281172Z",
     "iopub.status.idle": "2023-01-15T11:55:19.325110Z",
     "shell.execute_reply": "2023-01-15T11:55:19.324251Z"
    },
    "papermill": {
     "duration": 0.055576,
     "end_time": "2023-01-15T11:55:19.328270",
     "exception": false,
     "start_time": "2023-01-15T11:55:19.272694",
     "status": "completed"
    },
    "tags": []
   },
   "outputs": [
    {
     "data": {
      "text/html": [
       "<div>\n",
       "<style scoped>\n",
       "    .dataframe tbody tr th:only-of-type {\n",
       "        vertical-align: middle;\n",
       "    }\n",
       "\n",
       "    .dataframe tbody tr th {\n",
       "        vertical-align: top;\n",
       "    }\n",
       "\n",
       "    .dataframe thead th {\n",
       "        text-align: right;\n",
       "    }\n",
       "</style>\n",
       "<table border=\"1\" class=\"dataframe\">\n",
       "  <thead>\n",
       "    <tr style=\"text-align: right;\">\n",
       "      <th></th>\n",
       "      <th>school</th>\n",
       "      <th>school_setting</th>\n",
       "      <th>school_type</th>\n",
       "      <th>classroom</th>\n",
       "      <th>teaching_method</th>\n",
       "      <th>n_student</th>\n",
       "      <th>student_id</th>\n",
       "      <th>gender</th>\n",
       "      <th>lunch</th>\n",
       "      <th>pretest</th>\n",
       "      <th>posttest</th>\n",
       "    </tr>\n",
       "  </thead>\n",
       "  <tbody>\n",
       "    <tr>\n",
       "      <th>0</th>\n",
       "      <td>ANKYI</td>\n",
       "      <td>Urban</td>\n",
       "      <td>Non-public</td>\n",
       "      <td>6OL</td>\n",
       "      <td>Standard</td>\n",
       "      <td>20.0</td>\n",
       "      <td>2FHT3</td>\n",
       "      <td>Female</td>\n",
       "      <td>Does not qualify</td>\n",
       "      <td>62.0</td>\n",
       "      <td>72.0</td>\n",
       "    </tr>\n",
       "    <tr>\n",
       "      <th>1</th>\n",
       "      <td>ANKYI</td>\n",
       "      <td>Urban</td>\n",
       "      <td>Non-public</td>\n",
       "      <td>6OL</td>\n",
       "      <td>Standard</td>\n",
       "      <td>20.0</td>\n",
       "      <td>3JIVH</td>\n",
       "      <td>Female</td>\n",
       "      <td>Does not qualify</td>\n",
       "      <td>66.0</td>\n",
       "      <td>79.0</td>\n",
       "    </tr>\n",
       "    <tr>\n",
       "      <th>2</th>\n",
       "      <td>ANKYI</td>\n",
       "      <td>Urban</td>\n",
       "      <td>Non-public</td>\n",
       "      <td>6OL</td>\n",
       "      <td>Standard</td>\n",
       "      <td>20.0</td>\n",
       "      <td>3XOWE</td>\n",
       "      <td>Male</td>\n",
       "      <td>Does not qualify</td>\n",
       "      <td>64.0</td>\n",
       "      <td>76.0</td>\n",
       "    </tr>\n",
       "    <tr>\n",
       "      <th>3</th>\n",
       "      <td>ANKYI</td>\n",
       "      <td>Urban</td>\n",
       "      <td>Non-public</td>\n",
       "      <td>6OL</td>\n",
       "      <td>Standard</td>\n",
       "      <td>20.0</td>\n",
       "      <td>556O0</td>\n",
       "      <td>Female</td>\n",
       "      <td>Does not qualify</td>\n",
       "      <td>61.0</td>\n",
       "      <td>77.0</td>\n",
       "    </tr>\n",
       "    <tr>\n",
       "      <th>4</th>\n",
       "      <td>ANKYI</td>\n",
       "      <td>Urban</td>\n",
       "      <td>Non-public</td>\n",
       "      <td>6OL</td>\n",
       "      <td>Standard</td>\n",
       "      <td>20.0</td>\n",
       "      <td>74LOE</td>\n",
       "      <td>Male</td>\n",
       "      <td>Does not qualify</td>\n",
       "      <td>64.0</td>\n",
       "      <td>76.0</td>\n",
       "    </tr>\n",
       "    <tr>\n",
       "      <th>...</th>\n",
       "      <td>...</td>\n",
       "      <td>...</td>\n",
       "      <td>...</td>\n",
       "      <td>...</td>\n",
       "      <td>...</td>\n",
       "      <td>...</td>\n",
       "      <td>...</td>\n",
       "      <td>...</td>\n",
       "      <td>...</td>\n",
       "      <td>...</td>\n",
       "      <td>...</td>\n",
       "    </tr>\n",
       "    <tr>\n",
       "      <th>2128</th>\n",
       "      <td>ZOWMK</td>\n",
       "      <td>Urban</td>\n",
       "      <td>Public</td>\n",
       "      <td>ZBH</td>\n",
       "      <td>Standard</td>\n",
       "      <td>30.0</td>\n",
       "      <td>T8LSK</td>\n",
       "      <td>Female</td>\n",
       "      <td>Does not qualify</td>\n",
       "      <td>39.0</td>\n",
       "      <td>55.0</td>\n",
       "    </tr>\n",
       "    <tr>\n",
       "      <th>2129</th>\n",
       "      <td>ZOWMK</td>\n",
       "      <td>Urban</td>\n",
       "      <td>Public</td>\n",
       "      <td>ZBH</td>\n",
       "      <td>Standard</td>\n",
       "      <td>30.0</td>\n",
       "      <td>VNP26</td>\n",
       "      <td>Female</td>\n",
       "      <td>Qualifies for reduced/free lunch</td>\n",
       "      <td>38.0</td>\n",
       "      <td>46.0</td>\n",
       "    </tr>\n",
       "    <tr>\n",
       "      <th>2130</th>\n",
       "      <td>ZOWMK</td>\n",
       "      <td>Urban</td>\n",
       "      <td>Public</td>\n",
       "      <td>ZBH</td>\n",
       "      <td>Standard</td>\n",
       "      <td>30.0</td>\n",
       "      <td>YDR1Z</td>\n",
       "      <td>Female</td>\n",
       "      <td>Qualifies for reduced/free lunch</td>\n",
       "      <td>45.0</td>\n",
       "      <td>51.0</td>\n",
       "    </tr>\n",
       "    <tr>\n",
       "      <th>2131</th>\n",
       "      <td>ZOWMK</td>\n",
       "      <td>Urban</td>\n",
       "      <td>Public</td>\n",
       "      <td>ZBH</td>\n",
       "      <td>Standard</td>\n",
       "      <td>30.0</td>\n",
       "      <td>YUEIH</td>\n",
       "      <td>Male</td>\n",
       "      <td>Qualifies for reduced/free lunch</td>\n",
       "      <td>46.0</td>\n",
       "      <td>53.0</td>\n",
       "    </tr>\n",
       "    <tr>\n",
       "      <th>2132</th>\n",
       "      <td>ZOWMK</td>\n",
       "      <td>Urban</td>\n",
       "      <td>Public</td>\n",
       "      <td>ZBH</td>\n",
       "      <td>Standard</td>\n",
       "      <td>30.0</td>\n",
       "      <td>ZVCQ8</td>\n",
       "      <td>Male</td>\n",
       "      <td>Qualifies for reduced/free lunch</td>\n",
       "      <td>41.0</td>\n",
       "      <td>48.0</td>\n",
       "    </tr>\n",
       "  </tbody>\n",
       "</table>\n",
       "<p>2133 rows × 11 columns</p>\n",
       "</div>"
      ],
      "text/plain": [
       "     school school_setting school_type classroom teaching_method  n_student  \\\n",
       "0     ANKYI          Urban  Non-public       6OL        Standard       20.0   \n",
       "1     ANKYI          Urban  Non-public       6OL        Standard       20.0   \n",
       "2     ANKYI          Urban  Non-public       6OL        Standard       20.0   \n",
       "3     ANKYI          Urban  Non-public       6OL        Standard       20.0   \n",
       "4     ANKYI          Urban  Non-public       6OL        Standard       20.0   \n",
       "...     ...            ...         ...       ...             ...        ...   \n",
       "2128  ZOWMK          Urban      Public       ZBH        Standard       30.0   \n",
       "2129  ZOWMK          Urban      Public       ZBH        Standard       30.0   \n",
       "2130  ZOWMK          Urban      Public       ZBH        Standard       30.0   \n",
       "2131  ZOWMK          Urban      Public       ZBH        Standard       30.0   \n",
       "2132  ZOWMK          Urban      Public       ZBH        Standard       30.0   \n",
       "\n",
       "     student_id  gender                             lunch  pretest  posttest  \n",
       "0         2FHT3  Female                  Does not qualify     62.0      72.0  \n",
       "1         3JIVH  Female                  Does not qualify     66.0      79.0  \n",
       "2         3XOWE    Male                  Does not qualify     64.0      76.0  \n",
       "3         556O0  Female                  Does not qualify     61.0      77.0  \n",
       "4         74LOE    Male                  Does not qualify     64.0      76.0  \n",
       "...         ...     ...                               ...      ...       ...  \n",
       "2128      T8LSK  Female                  Does not qualify     39.0      55.0  \n",
       "2129      VNP26  Female  Qualifies for reduced/free lunch     38.0      46.0  \n",
       "2130      YDR1Z  Female  Qualifies for reduced/free lunch     45.0      51.0  \n",
       "2131      YUEIH    Male  Qualifies for reduced/free lunch     46.0      53.0  \n",
       "2132      ZVCQ8    Male  Qualifies for reduced/free lunch     41.0      48.0  \n",
       "\n",
       "[2133 rows x 11 columns]"
      ]
     },
     "execution_count": 3,
     "metadata": {},
     "output_type": "execute_result"
    }
   ],
   "source": [
    "df"
   ]
  },
  {
   "cell_type": "code",
   "execution_count": 4,
   "id": "6b99abac",
   "metadata": {
    "execution": {
     "iopub.execute_input": "2023-01-15T11:55:19.348738Z",
     "iopub.status.busy": "2023-01-15T11:55:19.347846Z",
     "iopub.status.idle": "2023-01-15T11:55:20.317437Z",
     "shell.execute_reply": "2023-01-15T11:55:20.315872Z"
    },
    "papermill": {
     "duration": 0.981204,
     "end_time": "2023-01-15T11:55:20.319912",
     "exception": true,
     "start_time": "2023-01-15T11:55:19.338708",
     "status": "failed"
    },
    "tags": []
   },
   "outputs": [
    {
     "ename": "NameError",
     "evalue": "name 'plt' is not defined",
     "output_type": "error",
     "traceback": [
      "\u001b[0;31m---------------------------------------------------------------------------\u001b[0m",
      "\u001b[0;31mNameError\u001b[0m                                 Traceback (most recent call last)",
      "\u001b[0;32m/tmp/ipykernel_19/1943190477.py\u001b[0m in \u001b[0;36m<module>\u001b[0;34m\u001b[0m\n\u001b[1;32m      1\u001b[0m \u001b[0mdf\u001b[0m\u001b[0;34m.\u001b[0m\u001b[0mhist\u001b[0m\u001b[0;34m(\u001b[0m\u001b[0mbins\u001b[0m\u001b[0;34m=\u001b[0m\u001b[0;36m50\u001b[0m\u001b[0;34m,\u001b[0m\u001b[0mfigsize\u001b[0m\u001b[0;34m=\u001b[0m\u001b[0;34m(\u001b[0m\u001b[0;36m10\u001b[0m\u001b[0;34m,\u001b[0m\u001b[0;36m8\u001b[0m\u001b[0;34m)\u001b[0m\u001b[0;34m)\u001b[0m\u001b[0;34m\u001b[0m\u001b[0;34m\u001b[0m\u001b[0m\n\u001b[0;32m----> 2\u001b[0;31m \u001b[0mplt\u001b[0m\u001b[0;34m.\u001b[0m\u001b[0mshow\u001b[0m\u001b[0;34m(\u001b[0m\u001b[0;34m)\u001b[0m\u001b[0;34m\u001b[0m\u001b[0;34m\u001b[0m\u001b[0m\n\u001b[0m",
      "\u001b[0;31mNameError\u001b[0m: name 'plt' is not defined"
     ]
    },
    {
     "data": {
      "image/png": "[encoded data removed]",
      "text/plain": [
       "<Figure size 720x576 with 4 Axes>"
      ]
     },
     "metadata": {
      "needs_background": "light"
     },
     "output_type": "display_data"
    }
   ],
   "source": [
    "df.hist(bins=50,figsize=(10,8))\n",
    "plt.show()"
   ]
  },
  {
   "cell_type": "markdown",
   "id": "4892b1cc",
   "metadata": {
    "papermill": {
     "duration": null,
     "end_time": null,
     "exception": null,
     "start_time": null,
     "status": "pending"
    },
    "tags": []
   },
   "source": [
    "# Check data types and null values"
   ]
  },
  {
   "cell_type": "code",
   "execution_count": null,
   "id": "99fbbea1",
   "metadata": {
    "execution": {
     "iopub.execute_input": "2023-01-05T00:23:30.348960Z",
     "iopub.status.busy": "2023-01-05T00:23:30.347907Z",
     "iopub.status.idle": "2023-01-05T00:23:30.367005Z",
     "shell.execute_reply": "2023-01-05T00:23:30.365824Z",
     "shell.execute_reply.started": "2023-01-05T00:23:30.348913Z"
    },
    "papermill": {
     "duration": null,
     "end_time": null,
     "exception": null,
     "start_time": null,
     "status": "pending"
    },
    "tags": []
   },
   "outputs": [],
   "source": [
    "df.info()"
   ]
  },
  {
   "cell_type": "code",
   "execution_count": null,
   "id": "344e6567",
   "metadata": {
    "execution": {
     "iopub.execute_input": "2023-01-05T00:23:27.717956Z",
     "iopub.status.busy": "2023-01-05T00:23:27.717327Z",
     "iopub.status.idle": "2023-01-05T00:23:28.585528Z",
     "shell.execute_reply": "2023-01-05T00:23:28.584364Z",
     "shell.execute_reply.started": "2023-01-05T00:23:27.717905Z"
    },
    "papermill": {
     "duration": null,
     "end_time": null,
     "exception": null,
     "start_time": null,
     "status": "pending"
    },
    "tags": []
   },
   "outputs": [],
   "source": [
    "import matplotlib.pyplot as plt\n",
    "import seaborn as sns\n",
    "sns.heatmap(df.isnull())\n",
    "plt.show()"
   ]
  },
  {
   "cell_type": "markdown",
   "id": "fa4ec7a3",
   "metadata": {
    "papermill": {
     "duration": null,
     "end_time": null,
     "exception": null,
     "start_time": null,
     "status": "pending"
    },
    "tags": []
   },
   "source": [
    "# Statisitcs "
   ]
  },
  {
   "cell_type": "code",
   "execution_count": null,
   "id": "17a290d0",
   "metadata": {
    "execution": {
     "iopub.execute_input": "2023-01-05T00:23:45.297644Z",
     "iopub.status.busy": "2023-01-05T00:23:45.296258Z",
     "iopub.status.idle": "2023-01-05T00:23:45.330521Z",
     "shell.execute_reply": "2023-01-05T00:23:45.329179Z",
     "shell.execute_reply.started": "2023-01-05T00:23:45.297593Z"
    },
    "papermill": {
     "duration": null,
     "end_time": null,
     "exception": null,
     "start_time": null,
     "status": "pending"
    },
    "tags": []
   },
   "outputs": [],
   "source": [
    "df.describe()"
   ]
  },
  {
   "cell_type": "markdown",
   "id": "ac175235",
   "metadata": {
    "papermill": {
     "duration": null,
     "end_time": null,
     "exception": null,
     "start_time": null,
     "status": "pending"
    },
    "tags": []
   },
   "source": [
    "# Make correlation of data"
   ]
  },
  {
   "cell_type": "code",
   "execution_count": null,
   "id": "ac16e70c",
   "metadata": {
    "execution": {
     "iopub.execute_input": "2023-01-05T00:23:48.087996Z",
     "iopub.status.busy": "2023-01-05T00:23:48.087478Z",
     "iopub.status.idle": "2023-01-05T00:23:48.368675Z",
     "shell.execute_reply": "2023-01-05T00:23:48.367829Z",
     "shell.execute_reply.started": "2023-01-05T00:23:48.087952Z"
    },
    "papermill": {
     "duration": null,
     "end_time": null,
     "exception": null,
     "start_time": null,
     "status": "pending"
    },
    "tags": []
   },
   "outputs": [],
   "source": [
    "corr = df.corr()\n",
    "corr\n",
    "sns.heatmap(corr, annot=True)"
   ]
  },
  {
   "cell_type": "markdown",
   "id": "512ca964",
   "metadata": {
    "papermill": {
     "duration": null,
     "end_time": null,
     "exception": null,
     "start_time": null,
     "status": "pending"
    },
    "tags": []
   },
   "source": [
    "# Q1 Make data analysis to students data and give summary about it with visualization to this data"
   ]
  },
  {
   "cell_type": "code",
   "execution_count": null,
   "id": "fa43d37b",
   "metadata": {
    "execution": {
     "iopub.execute_input": "2023-01-05T00:23:51.094483Z",
     "iopub.status.busy": "2023-01-05T00:23:51.093757Z",
     "iopub.status.idle": "2023-01-05T00:23:51.103827Z",
     "shell.execute_reply": "2023-01-05T00:23:51.102584Z",
     "shell.execute_reply.started": "2023-01-05T00:23:51.094436Z"
    },
    "papermill": {
     "duration": null,
     "end_time": null,
     "exception": null,
     "start_time": null,
     "status": "pending"
    },
    "tags": []
   },
   "outputs": [],
   "source": [
    "df['school'].value_counts().sum()"
   ]
  },
  {
   "cell_type": "code",
   "execution_count": null,
   "id": "5e140a3b",
   "metadata": {
    "execution": {
     "iopub.execute_input": "2023-01-05T00:23:53.342838Z",
     "iopub.status.busy": "2023-01-05T00:23:53.341819Z",
     "iopub.status.idle": "2023-01-05T00:23:53.874568Z",
     "shell.execute_reply": "2023-01-05T00:23:53.873258Z",
     "shell.execute_reply.started": "2023-01-05T00:23:53.342787Z"
    },
    "papermill": {
     "duration": null,
     "end_time": null,
     "exception": null,
     "start_time": null,
     "status": "pending"
    },
    "tags": []
   },
   "outputs": [],
   "source": [
    "schools = df['school'].value_counts()\n",
    "fig ,ax1= plt.subplots(1,1, figsize = (18,10))\n",
    "ax1.set_title('Types of school')\n",
    "sns.barplot(x = schools.index, y =schools);"
   ]
  },
  {
   "cell_type": "code",
   "execution_count": null,
   "id": "812baaac",
   "metadata": {
    "execution": {
     "iopub.execute_input": "2023-01-05T00:23:56.749081Z",
     "iopub.status.busy": "2023-01-05T00:23:56.748696Z",
     "iopub.status.idle": "2023-01-05T00:23:57.256791Z",
     "shell.execute_reply": "2023-01-05T00:23:57.255688Z",
     "shell.execute_reply.started": "2023-01-05T00:23:56.749051Z"
    },
    "papermill": {
     "duration": null,
     "end_time": null,
     "exception": null,
     "start_time": null,
     "status": "pending"
    },
    "tags": []
   },
   "outputs": [],
   "source": [
    "school_setting=df['school_setting'].value_counts()\n",
    "teaching_method =df['teaching_method'].value_counts()\n",
    "gender = df['gender'].value_counts()\n",
    "school_type=df['school_type'].value_counts()\n",
    "\n",
    "fig,(ax1,ax2,ax3,ax4) = plt.subplots(1,4, figsize = (10,10))\n",
    "\n",
    "# Increase the space between the subplots\n",
    "plt.subplots_adjust(wspace=.5)\n",
    "\n",
    "ax1.set_title('gender')\n",
    "ax1.tick_params(labelrotation = 90)\n",
    "sns.barplot(x =gender.index, y =gender, ax = ax1);\n",
    "\n",
    "ax2.set_title('teaching_method')\n",
    "ax2.tick_params(labelrotation = 90)\n",
    "sns.barplot(x =teaching_method.index, y =teaching_method, ax = ax2);\n",
    "\n",
    "ax3.set_title('school_setting')\n",
    "ax3.tick_params(labelrotation = 90)\n",
    "sns.barplot(x =school_setting.index, y =school_setting, ax = ax3);\n",
    "\n",
    "ax4.set_title('school_type')\n",
    "ax4.tick_params(labelrotation = 90)\n",
    "sns.barplot(x =school_type.index, y =school_type, ax = ax4);"
   ]
  },
  {
   "cell_type": "markdown",
   "id": "754700d7",
   "metadata": {
    "papermill": {
     "duration": null,
     "end_time": null,
     "exception": null,
     "start_time": null,
     "status": "pending"
    },
    "tags": []
   },
   "source": [
    "# summary of students data\n",
    "# 1- number( male > female ),\n",
    "# 2- (standard teachning methon > experimental),  \n",
    "# 3- the most culture  of students is urban,\n",
    "# 4- total number of schools = 2133 and the most students at GOOBU SCHOOL\n",
    "# 5- type of schools is puplic > non public"
   ]
  },
  {
   "cell_type": "markdown",
   "id": "0eb2214d",
   "metadata": {
    "papermill": {
     "duration": null,
     "end_time": null,
     "exception": null,
     "start_time": null,
     "status": "pending"
    },
    "tags": []
   },
   "source": [
    "# what is the level of students before and after test"
   ]
  },
  {
   "cell_type": "markdown",
   "id": "eee4b323",
   "metadata": {
    "papermill": {
     "duration": null,
     "end_time": null,
     "exception": null,
     "start_time": null,
     "status": "pending"
    },
    "tags": []
   },
   "source": []
  },
  {
   "cell_type": "code",
   "execution_count": null,
   "id": "a5d72985",
   "metadata": {
    "execution": {
     "iopub.execute_input": "2023-01-05T00:24:07.090194Z",
     "iopub.status.busy": "2023-01-05T00:24:07.089756Z",
     "iopub.status.idle": "2023-01-05T00:24:25.182905Z",
     "shell.execute_reply": "2023-01-05T00:24:25.181709Z",
     "shell.execute_reply.started": "2023-01-05T00:24:07.090141Z"
    },
    "papermill": {
     "duration": null,
     "end_time": null,
     "exception": null,
     "start_time": null,
     "status": "pending"
    },
    "tags": []
   },
   "outputs": [],
   "source": [
    "\n",
    "# data\n",
    "student_id = df['student_id']\n",
    "pre_test_score = df['pretest']\n",
    "post_test_score = df['posttest']\n",
    "\n",
    "# create the plot\n",
    "fig, ax = plt.subplots()\n",
    "ax.scatter(student_id, pre_test_score, label='Pre-test Score')\n",
    "ax.scatter(student_id, post_test_score, label='Post-test Score')\n",
    "\n",
    "# add a legend and labels\n",
    "ax.legend(loc='upper left')\n",
    "ax.set_xlabel('Student ID')\n",
    "ax.set_ylabel('Test Score')\n",
    "\n",
    "plt.show()\n"
   ]
  },
  {
   "cell_type": "markdown",
   "id": "6dc46c1c",
   "metadata": {
    "papermill": {
     "duration": null,
     "end_time": null,
     "exception": null,
     "start_time": null,
     "status": "pending"
    },
    "tags": []
   },
   "source": [
    "#  degrees of students in post-test better than pre-test"
   ]
  },
  {
   "cell_type": "markdown",
   "id": "4773f8f9",
   "metadata": {
    "papermill": {
     "duration": null,
     "end_time": null,
     "exception": null,
     "start_time": null,
     "status": "pending"
    },
    "tags": []
   },
   "source": [
    "# Does the social level of students affect the academic level?"
   ]
  },
  {
   "cell_type": "code",
   "execution_count": null,
   "id": "37c35b52",
   "metadata": {
    "execution": {
     "iopub.execute_input": "2023-01-05T00:24:25.586065Z",
     "iopub.status.busy": "2023-01-05T00:24:25.585596Z",
     "iopub.status.idle": "2023-01-05T00:24:25.723370Z",
     "shell.execute_reply": "2023-01-05T00:24:25.721897Z",
     "shell.execute_reply.started": "2023-01-05T00:24:25.586022Z"
    },
    "papermill": {
     "duration": null,
     "end_time": null,
     "exception": null,
     "start_time": null,
     "status": "pending"
    },
    "tags": []
   },
   "outputs": [],
   "source": [
    "df.groupby('school_setting')['posttest'].sum().plot(kind='pie',title='social seeting',autopct='%0.1f%%')"
   ]
  },
  {
   "cell_type": "markdown",
   "id": "63d571dd",
   "metadata": {
    "papermill": {
     "duration": null,
     "end_time": null,
     "exception": null,
     "start_time": null,
     "status": "pending"
    },
    "tags": []
   },
   "source": []
  },
  {
   "cell_type": "markdown",
   "id": "ce4d5171",
   "metadata": {
    "papermill": {
     "duration": null,
     "end_time": null,
     "exception": null,
     "start_time": null,
     "status": "pending"
    },
    "tags": []
   },
   "source": [
    "# which group of males and females have highest score "
   ]
  },
  {
   "cell_type": "code",
   "execution_count": null,
   "id": "c8d71472",
   "metadata": {
    "execution": {
     "iopub.execute_input": "2023-01-05T00:24:29.439081Z",
     "iopub.status.busy": "2023-01-05T00:24:29.438700Z",
     "iopub.status.idle": "2023-01-05T00:24:29.546471Z",
     "shell.execute_reply": "2023-01-05T00:24:29.545263Z",
     "shell.execute_reply.started": "2023-01-05T00:24:29.439050Z"
    },
    "papermill": {
     "duration": null,
     "end_time": null,
     "exception": null,
     "start_time": null,
     "status": "pending"
    },
    "tags": []
   },
   "outputs": [],
   "source": [
    "df.groupby('gender')['posttest'].sum().plot(kind='pie',title='social seeting',autopct='%0.1f%%')"
   ]
  },
  {
   "cell_type": "markdown",
   "id": "ec9b9206",
   "metadata": {
    "papermill": {
     "duration": null,
     "end_time": null,
     "exception": null,
     "start_time": null,
     "status": "pending"
    },
    "tags": []
   },
   "source": [
    "# which teching method is better ? "
   ]
  },
  {
   "cell_type": "code",
   "execution_count": null,
   "id": "791afc31",
   "metadata": {
    "execution": {
     "iopub.execute_input": "2023-01-05T00:24:34.039494Z",
     "iopub.status.busy": "2023-01-05T00:24:34.038386Z",
     "iopub.status.idle": "2023-01-05T00:24:34.143808Z",
     "shell.execute_reply": "2023-01-05T00:24:34.142343Z",
     "shell.execute_reply.started": "2023-01-05T00:24:34.039451Z"
    },
    "papermill": {
     "duration": null,
     "end_time": null,
     "exception": null,
     "start_time": null,
     "status": "pending"
    },
    "tags": []
   },
   "outputs": [],
   "source": [
    "df.groupby('teaching_method')['posttest'].sum().plot(kind='pie',title='social seeting',autopct='%0.1f%%')"
   ]
  },
  {
   "cell_type": "markdown",
   "id": "161f8a08",
   "metadata": {
    "papermill": {
     "duration": null,
     "end_time": null,
     "exception": null,
     "start_time": null,
     "status": "pending"
    },
    "tags": []
   },
   "source": []
  },
  {
   "cell_type": "markdown",
   "id": "9ab7d9ab",
   "metadata": {
    "papermill": {
     "duration": null,
     "end_time": null,
     "exception": null,
     "start_time": null,
     "status": "pending"
    },
    "tags": []
   },
   "source": [
    "# which type of schools  is better ? "
   ]
  },
  {
   "cell_type": "code",
   "execution_count": null,
   "id": "9feb89d5",
   "metadata": {
    "execution": {
     "iopub.execute_input": "2023-01-05T00:24:37.701948Z",
     "iopub.status.busy": "2023-01-05T00:24:37.701523Z",
     "iopub.status.idle": "2023-01-05T00:24:37.806053Z",
     "shell.execute_reply": "2023-01-05T00:24:37.804844Z",
     "shell.execute_reply.started": "2023-01-05T00:24:37.701914Z"
    },
    "papermill": {
     "duration": null,
     "end_time": null,
     "exception": null,
     "start_time": null,
     "status": "pending"
    },
    "tags": []
   },
   "outputs": [],
   "source": [
    "df.groupby('school_type')['posttest'].sum().plot(kind='pie',title='social seeting',autopct='%0.1f%%')"
   ]
  }
 ],
 "metadata": {
  "kernelspec": {
   "display_name": "Python 3",
   "language": "python",
   "name": "python3"
  },
  "language_info": {
   "codemirror_mode": {
    "name": "ipython",
    "version": 3
   },
   "file_extension": ".py",
   "mimetype": "text/x-python",
   "name": "python",
   "nbconvert_exporter": "python",
   "pygments_lexer": "ipython3",
   "version": "3.7.12"
  },
  "papermill": {
   "default_parameters": {},
   "duration": 10.467287,
   "end_time": "2023-01-15T11:55:20.949094",
   "environment_variables": {},
   "exception": true,
   "input_path": "__notebook__.ipynb",
   "output_path": "__notebook__.ipynb",
   "parameters": {},
   "start_time": "2023-01-15T11:55:10.481807",
   "version": "2.3.4"
  }
 },
 "nbformat": 4,
 "nbformat_minor": 5
}
